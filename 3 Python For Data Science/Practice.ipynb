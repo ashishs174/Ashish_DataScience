{
 "cells": [
  {
   "cell_type": "code",
   "execution_count": 4,
   "metadata": {},
   "outputs": [
    {
     "name": "stdout",
     "output_type": "stream",
     "text": [
      "[0, 1, 4, 9, 16, 25, 36, 49, 64, 81]\n"
     ]
    }
   ],
   "source": [
    "squares = [i**2 for i in range(10)]\n",
    "print (squares)"
   ]
  },
  {
   "cell_type": "code",
   "execution_count": 11,
   "metadata": {},
   "outputs": [
    {
     "name": "stdout",
     "output_type": "stream",
     "text": [
      "[-20, -40, 20, 40, 100]\n",
      "[(-10, 100), (-20, 400), (10, 100), (20, 400), (50, 2500)]\n"
     ]
    }
   ],
   "source": [
    "lst = [-10, -20, 10, 20, 50]\n",
    "\n",
    "\n",
    "lst_doubled = [i*2 for i in lst]\n",
    "print (lst_doubled)\n",
    "\n",
    "\n",
    "lst_positive = [i for i in lst if i>0]\n",
    "\n",
    "lst_square = [(i,i**2) for i in lst]\n",
    "print (lst_square)"
   ]
  },
  {
   "cell_type": "code",
   "execution_count": 22,
   "metadata": {},
   "outputs": [
    {
     "name": "stdout",
     "output_type": "stream",
     "text": [
      "[[1, 5, 9], [2, 6, 10], [3, 7, 11]]\n",
      "4\n",
      "[[1, 5, 9], [2, 6, 10], [3, 7, 11], [4, 8, 12]]\n"
     ]
    }
   ],
   "source": [
    "# Nested list comprehension \n",
    "\n",
    "matrix = [\n",
    "    [1, 2, 3, 4],\n",
    "    [5, 6, 7, 8],\n",
    "    [9, 10, 11, 12]\n",
    "]\n",
    "\n",
    "transposed_comprehension = [[row[i] for row in matrix] for i in range(len(matrix))] \n",
    "\n",
    "print (transposed_comprehension)\n",
    "no_of_rows = len(matrix[0]);\n",
    "print (no_of_rows)\n",
    "\n",
    "transposed = [];\n",
    "\n",
    "for i in range(no_of_rows):\n",
    "    lst=[];\n",
    "    for j in matrix:\n",
    "        lst.append(j[i])\n",
    "    transposed.append(lst)\n",
    "\n",
    "print (transposed)\n",
    "\n",
    "\n",
    "\n",
    "\n"
   ]
  }
 ],
 "metadata": {
  "kernelspec": {
   "display_name": "Python 3",
   "language": "python",
   "name": "python3"
  },
  "language_info": {
   "codemirror_mode": {
    "name": "ipython",
    "version": 3
   },
   "file_extension": ".py",
   "mimetype": "text/x-python",
   "name": "python",
   "nbconvert_exporter": "python",
   "pygments_lexer": "ipython3",
   "version": "3.6.5"
  }
 },
 "nbformat": 4,
 "nbformat_minor": 2
}
