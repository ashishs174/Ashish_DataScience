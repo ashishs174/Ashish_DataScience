{
 "cells": [
  {
   "cell_type": "code",
   "execution_count": 5,
   "metadata": {},
   "outputs": [
    {
     "name": "stdout",
     "output_type": "stream",
     "text": [
      "5th number in the fibonacci series is 8 \n"
     ]
    }
   ],
   "source": [
    "# Fibnacci Series\n",
    "\n",
    "# 1,1,2,3,5,8,11,19,\n",
    "\n",
    "def fib(num):\n",
    "  \n",
    "    return 1 if num<=1 else fib(num-1)+fib(num-2)\n",
    "\n",
    "print (\"{0}th number in the fibonacci series is {1} \".format(5,fib(5)))"
   ]
  },
  {
   "cell_type": "code",
   "execution_count": 12,
   "metadata": {},
   "outputs": [
    {
     "ename": "SyntaxError",
     "evalue": "invalid syntax (<ipython-input-12-b2c3cb00672f>, line 5)",
     "output_type": "error",
     "traceback": [
      "\u001b[1;36m  File \u001b[1;32m\"<ipython-input-12-b2c3cb00672f>\"\u001b[1;36m, line \u001b[1;32m5\u001b[0m\n\u001b[1;33m    prime_number_list = list(filter(lambda x: x if (for i in range(x-1):i%x==0) else None ,my_list))\u001b[0m\n\u001b[1;37m                                                      ^\u001b[0m\n\u001b[1;31mSyntaxError\u001b[0m\u001b[1;31m:\u001b[0m invalid syntax\n"
     ]
    }
   ],
   "source": [
    "#  Lambda functions :\n",
    "\n",
    "\n",
    "my_list = [5, 7, 22, 97, 54, 62, 77, 23, 73, 61] \n",
    "prime_number_list = list(filter(lambda x: x if (for i in range(x-1):i%x==0) else None ,my_list))\n",
    "\n",
    "print (prime_number_list)"
   ]
  },
  {
   "cell_type": "code",
   "execution_count": 2,
   "metadata": {},
   "outputs": [],
   "source": [
    "import pdb"
   ]
  },
  {
   "cell_type": "code",
   "execution_count": 17,
   "metadata": {},
   "outputs": [
    {
     "name": "stdout",
     "output_type": "stream",
     "text": [
      "[[1, 5, 9, 4], [2, 6, 1, 5], [3, 7, 2, 6], [4, 8, 3, 7]]\n"
     ]
    }
   ],
   "source": [
    "matri = [\n",
    "[1,2,3,4],\n",
    "[5,6,7,8],\n",
    "[9,1,2,3],\n",
    "[4,5,6,7]\n",
    "]\n",
    "\n",
    "trans = [[row[i] for row in matri] for i in range(len(matri))]\n",
    "\n",
    "print (trans)"
   ]
  }
 ],
 "metadata": {
  "kernelspec": {
   "display_name": "Python 3",
   "language": "python",
   "name": "python3"
  },
  "language_info": {
   "codemirror_mode": {
    "name": "ipython",
    "version": 3
   },
   "file_extension": ".py",
   "mimetype": "text/x-python",
   "name": "python",
   "nbconvert_exporter": "python",
   "pygments_lexer": "ipython3",
   "version": "3.6.5"
  }
 },
 "nbformat": 4,
 "nbformat_minor": 2
}
